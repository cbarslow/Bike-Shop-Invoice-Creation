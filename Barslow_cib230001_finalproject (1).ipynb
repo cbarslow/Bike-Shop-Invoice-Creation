{
 "cells": [
  {
   "cell_type": "code",
   "execution_count": 6,
   "id": "cb109e47-fad0-4813-ae8f-7a382cdcdcda",
   "metadata": {},
   "outputs": [
    {
     "name": "stdout",
     "output_type": "stream",
     "text": [
      "Gracie rented 3 scooter(s) for 2 day(s).\n",
      "Bobby rented 5 scooter(s) for 4 hour(s).\n",
      "Error: Only 2 scooters avaliable.\n",
      "Celeste rented 2 scooter(s) for 6 day(s).\n",
      "Gracie returned 3 scooter(s). Amount due: $105.00\n",
      "Bobby returned 5 scooter(s). Amount due: $98.00\n",
      "Error: No rental record found for the customer.\n",
      "Celeste returned 2 scooter(s). Amount due: $300.00\n"
     ]
    }
   ],
   "source": [
    "class Rentalscootershop:\n",
    "    def __init__(self, shop_name, avaliable_scooters):\n",
    "        self.shop_name = shop_name\n",
    "        self.avaliable_scooters = avaliable_scooters\n",
    "        self.rental_rate = {'hour' : 7, 'day' : 25, 'week' : 70}\n",
    "        self.rented_out = {}\n",
    "\n",
    "    def rented_scooters(self, customer_name, scooters_needed, rental_period, rental_duration):\n",
    "        if scooters_needed > self.avaliable_scooters:\n",
    "            return f\"Error: Only {self.avaliable_scooters} scooters avaliable.\"\n",
    "        if rental_period not in self.rental_rate:\n",
    "            return f\"Error: Invalid rental period. Choose 'hourly', 'day', or 'week'.\"\n",
    "        rental_info = { 'scooters_needed' : scooters_needed, 'rental_period' : rental_period, \n",
    "                       'rental_duration' : rental_duration, 'amount_due' : 0 } \n",
    "        self.rented_out[customer_name] = rental_info\n",
    "        self.avaliable_scooters -= scooters_needed\n",
    "        return f\"{customer_name} rented {scooters_needed} scooter(s) for {rental_duration} {rental_period}(s).\"\n",
    "\n",
    "    def returned_scooters(self, customer_name):\n",
    "        rental_info = self.rented_out.get(customer_name) \n",
    "        if rental_info is None:\n",
    "            return \"Error: No rental record found for the customer.\"\n",
    "        base_rate = self.rental_rate[rental_info['rental_period']]\n",
    "        total_price = base_rate * rental_info['rental_duration'] * rental_info['scooters_needed']\n",
    "\n",
    "        if 3 <= rental_info['scooters_needed'] <= 5:\n",
    "            total_price *= 0.7 \n",
    "\n",
    "        self.avaliable_scooters += rental_info['scooters_needed']\n",
    "        del self.rented_out[customer_name]\n",
    "\n",
    "        return f\"{customer_name} returned {rental_info['scooters_needed']} scooter(s). Amount due: ${total_price:.2f}\"\n",
    "\n",
    "# Example usage\n",
    "if __name__ == \"__main__\":\n",
    "    shop = Rentalscootershop(\"Downtown Scooter Rentals\", 10)\n",
    "    \n",
    "    # Rent scooters\n",
    "    print(shop.rented_scooters(\"Gracie\", 3, \"day\", 2))\n",
    "    print(shop.rented_scooters(\"Bobby\", 5, \"hour\", 4))\n",
    "    print(shop.rented_scooters(\"Gabby\", 6, \"week\", 1))  \n",
    "    print(shop.rented_scooters(\"Celeste\", 2, \"day\", 6))\n",
    "    \n",
    "    # Return scooters and issue invoices\n",
    "    print(shop.returned_scooters(\"Gracie\"))\n",
    "    print(shop.returned_scooters(\"Bobby\"))\n",
    "    print(shop.returned_scooters(\"Gabby\")) \n",
    "    print(shop.returned_scooters(\"Celeste\"))"
   ]
  },
  {
   "cell_type": "code",
   "execution_count": 3,
   "id": "4d38d3dd-96ff-4659-8402-ab3deb59ee74",
   "metadata": {},
   "outputs": [
    {
     "name": "stdout",
     "output_type": "stream",
     "text": [
      "Gracie rented 3 scooter(s) for 2 day(s).\n",
      "Gracie returned 3 scooter(s). Amount due: $105.00\n"
     ]
    }
   ],
   "source": [
    "print(shop.rented_scooters(\"Gracie\", 3, \"day\", 2))\n",
    "print(shop.returned_scooters(\"Gracie\"))"
   ]
  },
  {
   "cell_type": "code",
   "execution_count": 4,
   "id": "4c9e71a2-9626-41bc-8c74-54c61810744e",
   "metadata": {},
   "outputs": [
    {
     "name": "stdout",
     "output_type": "stream",
     "text": [
      "Bobby rented 5 scooter(s) for 4 hour(s).\n",
      "Bobby returned 5 scooter(s). Amount due: $98.00\n"
     ]
    }
   ],
   "source": [
    "print(shop.rented_scooters(\"Bobby\", 5, \"hour\", 4))\n",
    "print(shop.returned_scooters(\"Bobby\"))"
   ]
  },
  {
   "cell_type": "code",
   "execution_count": 5,
   "id": "7f4d2772-1547-437d-a4cf-a47e6617f71a",
   "metadata": {},
   "outputs": [
    {
     "name": "stdout",
     "output_type": "stream",
     "text": [
      "Gabby rented 6 scooter(s) for 1 week(s).\n",
      "Gabby returned 6 scooter(s). Amount due: $420.00\n"
     ]
    }
   ],
   "source": [
    "print(shop.rented_scooters(\"Gabby\", 6, \"week\", 1))\n",
    "print(shop.returned_scooters(\"Gabby\")) "
   ]
  },
  {
   "cell_type": "code",
   "execution_count": 7,
   "id": "9457f6d8-b811-419d-8770-7d38ab32e860",
   "metadata": {},
   "outputs": [
    {
     "name": "stdout",
     "output_type": "stream",
     "text": [
      "Celeste rented 2 scooter(s) for 6 day(s).\n",
      "Celeste returned 2 scooter(s). Amount due: $300.00\n"
     ]
    }
   ],
   "source": [
    "print(shop.rented_scooters(\"Celeste\", 2, \"day\", 6))\n",
    "print(shop.returned_scooters(\"Celeste\"))"
   ]
  },
  {
   "cell_type": "code",
   "execution_count": null,
   "id": "7e2f37ad-9073-4a3e-ac0a-4301b9bf05e1",
   "metadata": {},
   "outputs": [],
   "source": []
  }
 ],
 "metadata": {
  "kernelspec": {
   "display_name": "Python 3 (ipykernel)",
   "language": "python",
   "name": "python3"
  },
  "language_info": {
   "codemirror_mode": {
    "name": "ipython",
    "version": 3
   },
   "file_extension": ".py",
   "mimetype": "text/x-python",
   "name": "python",
   "nbconvert_exporter": "python",
   "pygments_lexer": "ipython3",
   "version": "3.11.7"
  }
 },
 "nbformat": 4,
 "nbformat_minor": 5
}
